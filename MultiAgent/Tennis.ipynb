{
 "cells": [
  {
   "cell_type": "markdown",
   "metadata": {},
   "source": [
    "# Tennis - Collaboration and Competition\n",
    "\n",
    "In this project, two agents are trained to play the Tennis tournament. Agents control rackets to bounce the ball over a net. If an agent hits the ball over the net, it receives reward of +0.1 and a reward of -0.01 is given if an agent lets the ball hit the ground or hits the ball out of bounds. Thus goal for both agents is to keep the ball in play.\n",
    "\n",
    "The observation space consists of 8 variables corresponding to the position and velocity of the ball and racket. Each agent receives its own, local observation. Two continous actions are available, corresponding to movement toward (or away from) the net, and jumping."
   ]
  },
  {
   "cell_type": "markdown",
   "metadata": {},
   "source": [
    "#### Dependency Installation"
   ]
  },
  {
   "cell_type": "code",
   "execution_count": 1,
   "metadata": {},
   "outputs": [],
   "source": [
    "!pip -q install ./python"
   ]
  },
  {
   "cell_type": "code",
   "execution_count": 15,
   "metadata": {},
   "outputs": [
    {
     "name": "stdout",
     "output_type": "stream",
     "text": [
      "The autoreload extension is already loaded. To reload it, use:\n",
      "  %reload_ext autoreload\n"
     ]
    }
   ],
   "source": [
    "%load_ext autoreload\n",
    "%autoreload 2\n",
    "\n",
    "import numpy as np\n",
    "import matplotlib.pyplot as plt\n",
    "from IPython import display\n",
    "\n",
    "import player as model\n",
    "\n",
    "%matplotlib inline\n",
    "plt.ion()"
   ]
  },
  {
   "cell_type": "code",
   "execution_count": 32,
   "metadata": {},
   "outputs": [],
   "source": [
    "def describe_environment(env):\n",
    "    '''\n",
    "    Describe the tennis environment\n",
    "    '''\n",
    "    # get the brain\n",
    "    brain_name = env.brain_names[0]\n",
    "    brain = env.brains[brain_name]\n",
    "    \n",
    "    print('Default Brain: {}, {}'.format(brain_name, brain))\n",
    "   \n",
    "    # reset the environment\n",
    "    env_info = env.reset(train_mode=True)[brain_name]\n",
    "    \n",
    "    # Agents in the environment\n",
    "    print('Active Agents: {}'.format(len(env_info.agents)))\n",
    "    \n",
    "    # Action Space\n",
    "    actions = brain.vector_action_space_size\n",
    "    print('Action Space: {}'.format(actions))\n",
    "    \n",
    "    # State Space\n",
    "    states = env_info.vector_observations\n",
    "    \n",
    "    print('State Space: {}'.format(states.shape[1]))\n",
    "\n",
    "    print('States: {}'.format(states[0]))\n",
    "    \n",
    "    \n",
    "def play_match(env, agent, train = True, matches = 1, max_steps = None):\n",
    "    '''\n",
    "    Play tennis match using given agent and environment\n",
    "    param env: unity tennis environment\n",
    "    param agent: m-dqn agent\n",
    "    param matches: number of matches to play\n",
    "    '''\n",
    "    \n",
    "    total_rewards = 0.\n",
    "    \n",
    "    for i in range(matches):\n",
    "        \n",
    "        step       = 0\n",
    "        rewards    = np.zeros(agent.num_agents)\n",
    "        brain_name = env.brain_names[0]\n",
    "        env_info   = env.reset(train_mode = train)[brain_name]\n",
    "        states     = env_info.vector_observations\n",
    "        \n",
    "        while (max_steps == None) or (j < max_steps):\n",
    "            \n",
    "            # get agent's action for current state\n",
    "            actions = agent.select_actions(states, epsilon = 0., training = train)\n",
    "            \n",
    "            # take the action that agent has selected\n",
    "            env_info = env.step(actions)[brain_name]\n",
    "            \n",
    "            # get transitioned state and reward\n",
    "            states  = env_info.vector_observations\n",
    "            scores  = env_info.rewards\n",
    "            dones   = env_info.local_done\n",
    "            \n",
    "            rewards += scores\n",
    "            step    += 1\n",
    "            \n",
    "            if any(dones): \n",
    "                break\n",
    "            \n",
    "        total_rewards += np.max(rewards)\n",
    "    \n",
    "    total_rewards /= matches\n",
    "    \n",
    "    print('Avg Score: {:.2f}'.format(total_rewards))\n",
    "    \n",
    "    \n",
    "def plot_rewards(rewards):\n",
    "    \n",
    "    fig = plt.figure()\n",
    "    ax = fig.add_subplot(111)\n",
    "    plt.plot(np.arange(len(rewards)), rewards)\n",
    "    \n",
    "    plt.ylabel('Reward')\n",
    "    plt.xlabel('Episode')\n",
    "    \n",
    "    plt.show()\n",
    "    "
   ]
  },
  {
   "cell_type": "markdown",
   "metadata": {},
   "source": [
    "#### Show environment details"
   ]
  },
  {
   "cell_type": "code",
   "execution_count": 4,
   "metadata": {},
   "outputs": [
    {
     "name": "stderr",
     "output_type": "stream",
     "text": [
      "INFO:unityagents:\n",
      "'Academy' started successfully!\n",
      "Unity Academy name: Academy\n",
      "        Number of Brains: 1\n",
      "        Number of External Brains : 1\n",
      "        Lesson number : 0\n",
      "        Reset Parameters :\n",
      "\t\t\n",
      "Unity brain name: TennisBrain\n",
      "        Number of Visual Observations (per agent): 0\n",
      "        Vector Observation space type: continuous\n",
      "        Vector Observation space size (per agent): 8\n",
      "        Number of stacked Vector Observation: 3\n",
      "        Vector Action space type: continuous\n",
      "        Vector Action space size (per agent): 2\n",
      "        Vector Action descriptions: , \n"
     ]
    },
    {
     "name": "stdout",
     "output_type": "stream",
     "text": [
      "Default Brain: TennisBrain, Unity brain name: TennisBrain\n",
      "        Number of Visual Observations (per agent): 0\n",
      "        Vector Observation space type: continuous\n",
      "        Vector Observation space size (per agent): 8\n",
      "        Number of stacked Vector Observation: 3\n",
      "        Vector Action space type: continuous\n",
      "        Vector Action space size (per agent): 2\n",
      "        Vector Action descriptions: , \n",
      "Active Agents: 2\n",
      "Action Space: 2\n",
      "State Space: 24\n",
      "States: [ 0.          0.          0.          0.          0.          0.          0.\n",
      "  0.          0.          0.          0.          0.          0.          0.\n",
      "  0.          0.         -6.65278625 -1.5        -0.          0.\n",
      "  6.83172083  6.         -0.          0.        ]\n"
     ]
    }
   ],
   "source": [
    "env = model.get_environment()\n",
    "\n",
    "describe_environment(env)"
   ]
  },
  {
   "cell_type": "markdown",
   "metadata": {},
   "source": [
    "#### Get the untrained agent and show it's interaction with the environment"
   ]
  },
  {
   "cell_type": "code",
   "execution_count": 34,
   "metadata": {},
   "outputs": [],
   "source": [
    "# DQN Agent with no training\n",
    "agent = model.get_agent(env)"
   ]
  },
  {
   "cell_type": "code",
   "execution_count": 39,
   "metadata": {},
   "outputs": [
    {
     "name": "stdout",
     "output_type": "stream",
     "text": [
      "Avg Score: 0.00\n"
     ]
    }
   ],
   "source": [
    "# navigate the environment with untrained DQN agent\n",
    "play_match(env, agent)"
   ]
  },
  {
   "cell_type": "markdown",
   "metadata": {},
   "source": [
    "#### Train Agent\n",
    "\n",
    "Training is done in two batches - first 1500 episodes are played and that memory is forwarded for next 1500 play."
   ]
  },
  {
   "cell_type": "code",
   "execution_count": 19,
   "metadata": {
    "scrolled": false
   },
   "outputs": [
    {
     "name": "stdout",
     "output_type": "stream",
     "text": [
      " Episode-100, Eps: 0.9048, Avg Reward: 0.0683\n",
      " Episode-200, Eps: 0.8186, Avg Reward: 0.1203\n",
      " Episode-300, Eps: 0.7407, Avg Reward: 0.1704\n",
      " Episode-400, Eps: 0.6702, Avg Reward: 0.2543\n",
      " Episode-480, Eps: 0.6186, Reward: Avg 0.5032\n",
      " Agents have learned to solve the task. Episode-480, Avg Reward: 0.5032\n",
      " Episode-500, Eps: 0.6064, Avg Reward: 0.7405\n",
      " Episode-516, Eps: 0.5967, Reward: Avg 1.0186\n",
      " Average reward beyond max expectation, stopping training now.\n"
     ]
    }
   ],
   "source": [
    "total_rewards = list()\n",
    "\n",
    "# train the agent in two batches of 1500 each\n",
    "rewards = model.train_players(env, agent, episodes = 1500, max_steps = 2000, share_experience = True)\n",
    "\n",
    "total_rewards = rewards\n",
    "\n",
    "# train the agent for second batch\n",
    "rewards = model.train_players(env, agent, episodes = 1500, max_steps = 2000, share_experience = True)\n",
    "\n",
    "total_rewards += rewards"
   ]
  },
  {
   "cell_type": "markdown",
   "metadata": {},
   "source": [
    "#### Agent's Training Progress"
   ]
  },
  {
   "cell_type": "code",
   "execution_count": 29,
   "metadata": {},
   "outputs": [
    {
     "data": {
      "image/png": "[encoded data removed]",
      "text/plain": [
       "<matplotlib.figure.Figure at 0x7f7e7b7b32e8>"
      ]
     },
     "metadata": {
      "needs_background": "light"
     },
     "output_type": "display_data"
    }
   ],
   "source": [
    "# show training for both batches\n",
    "plot_rewards(total_rewards)"
   ]
  },
  {
   "cell_type": "markdown",
   "metadata": {},
   "source": [
    "#### Show navigation of a trained agent"
   ]
  },
  {
   "cell_type": "code",
   "execution_count": 33,
   "metadata": {},
   "outputs": [
    {
     "name": "stdout",
     "output_type": "stream",
     "text": [
      "Avg Score: 2.60\n"
     ]
    }
   ],
   "source": [
    "model.restore_memory(agent)\n",
    "\n",
    "play_match(env, agent, train = False)"
   ]
  },
  {
   "cell_type": "markdown",
   "metadata": {},
   "source": [
    "#### Close Environment"
   ]
  },
  {
   "cell_type": "code",
   "execution_count": 40,
   "metadata": {},
   "outputs": [],
   "source": [
    "env.close()"
   ]
  }
 ],
 "metadata": {
  "kernelspec": {
   "display_name": "Python 3",
   "language": "python",
   "name": "python3"
  },
  "language_info": {
   "codemirror_mode": {
    "name": "ipython",
    "version": 3
   },
   "file_extension": ".py",
   "mimetype": "text/x-python",
   "name": "python",
   "nbconvert_exporter": "python",
   "pygments_lexer": "ipython3",
   "version": "3.5.6"
  }
 },
 "nbformat": 4,
 "nbformat_minor": 2
}
