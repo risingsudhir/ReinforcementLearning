{
 "cells": [
  {
   "cell_type": "markdown",
   "metadata": {},
   "source": [
    "# Continuous Control\n",
    "\n",
    "In this project, agent is trained on a continous space environment, a double-jointed arm can move to target locations. A reward of +0.1 is provided for each step that the agent's hand is in the goal location. Thus, the goal of the agent is to maintain its position at the target location for as many time steps as possible.\n",
    "\n",
    "The observation space consists of 33 variables corresponding to position, rotation, velocity, and angular velocities of the arm. Each action is a vector with four numbers, corresponding to torque applicable to two joints. Every entry in the action vector should be a number between -1 and 1."
   ]
  },
  {
   "cell_type": "markdown",
   "metadata": {},
   "source": [
    "### Dependency Installation"
   ]
  },
  {
   "cell_type": "code",
   "execution_count": 1,
   "metadata": {},
   "outputs": [],
   "source": [
    "!pip -q install ./python"
   ]
  },
  {
   "cell_type": "code",
   "execution_count": 2,
   "metadata": {},
   "outputs": [],
   "source": [
    "%load_ext autoreload\n",
    "%autoreload 2\n",
    "\n",
    "import numpy as np\n",
    "import matplotlib.pyplot as plt\n",
    "from IPython import display\n",
    "\n",
    "import navigator as model\n",
    "\n",
    "%matplotlib inline\n",
    "plt.ion()"
   ]
  },
  {
   "cell_type": "code",
   "execution_count": 3,
   "metadata": {},
   "outputs": [],
   "source": [
    "def describe_environment(env):\n",
    "    '''\n",
    "    Describe the navigator environment\n",
    "    '''\n",
    "    # get the brain\n",
    "    brain_name = env.brain_names[0]\n",
    "    brain = env.brains[brain_name]\n",
    "    \n",
    "    print('Default Brain: {}, {}'.format(brain_name, brain))\n",
    "   \n",
    "    # reset the environment\n",
    "    env_info = env.reset(train_mode=True)[brain_name]\n",
    "    \n",
    "    # Agents in the environment\n",
    "    print('Active Agents: {}'.format(len(env_info.agents)))\n",
    "    \n",
    "    # Action Space\n",
    "    actions = brain.vector_action_space_size\n",
    "    print('Action Space: {}'.format(actions))\n",
    "    \n",
    "    # State Space\n",
    "    states = env_info.vector_observations[0]\n",
    "    \n",
    "    print('State Space: {}'.format(len(states)))\n",
    "\n",
    "    print('States: {}'.format(states))\n",
    "    \n",
    "    \n",
    "def show_navigation(env, agent, train = True, navigations = 1, max_steps = None):\n",
    "    '''\n",
    "    Show navigation of the agent in the environment\n",
    "    param env: unity navigation environment\n",
    "    param agent: dqn agent\n",
    "    param navigations: number of navigations to play\n",
    "    '''\n",
    "    \n",
    "    total_rewards = 0.\n",
    "    \n",
    "    for i in range(navigations):\n",
    "        \n",
    "        step       = 0\n",
    "        rewards    = 0.\n",
    "        brain_name = env.brain_names[0]\n",
    "        env_info   = env.reset(train_mode = train)[brain_name]\n",
    "        state      = env_info.vector_observations[0]\n",
    "        \n",
    "        while (max_steps == None) or (j < max_steps):\n",
    "            \n",
    "            # get agent's action for current state\n",
    "            action = agent.select_action(state, epsilon = 0., training = train)\n",
    "            \n",
    "            # take the action that agent has selected\n",
    "            env_info = env.step(action)[brain_name]\n",
    "            \n",
    "            # get transitioned state and reward\n",
    "            state    = env_info.vector_observations[0]\n",
    "            reward   = env_info.rewards[0]\n",
    "            done     = env_info.local_done[0]\n",
    "            \n",
    "            rewards += reward\n",
    "            step    += 1\n",
    "            \n",
    "            #print('Step: {}, Reward: {}'.format(step, reward))\n",
    "            \n",
    "            if done: \n",
    "                break\n",
    "            \n",
    "        total_rewards += rewards\n",
    "    \n",
    "    total_rewards /= navigations\n",
    "    \n",
    "    print('Avg Rewards: {:.2f}'.format(total_rewards))\n",
    "    \n",
    "    \n",
    "def plot_rewards(rewards):\n",
    "    \n",
    "    fig = plt.figure()\n",
    "    ax = fig.add_subplot(111)\n",
    "    plt.plot(np.arange(len(rewards)), rewards)\n",
    "    \n",
    "    plt.ylabel('Reward')\n",
    "    plt.xlabel('Episode')\n",
    "    \n",
    "    plt.show()"
   ]
  },
  {
   "cell_type": "markdown",
   "metadata": {},
   "source": [
    "### Show environment details"
   ]
  },
  {
   "cell_type": "code",
   "execution_count": 4,
   "metadata": {},
   "outputs": [
    {
     "name": "stderr",
     "output_type": "stream",
     "text": [
      "INFO:unityagents:\n",
      "'Academy' started successfully!\n",
      "Unity Academy name: Academy\n",
      "        Number of Brains: 1\n",
      "        Number of External Brains : 1\n",
      "        Lesson number : 0\n",
      "        Reset Parameters :\n",
      "\t\tgoal_speed -> 1.0\n",
      "\t\tgoal_size -> 5.0\n",
      "Unity brain name: ReacherBrain\n",
      "        Number of Visual Observations (per agent): 0\n",
      "        Vector Observation space type: continuous\n",
      "        Vector Observation space size (per agent): 33\n",
      "        Number of stacked Vector Observation: 1\n",
      "        Vector Action space type: continuous\n",
      "        Vector Action space size (per agent): 4\n",
      "        Vector Action descriptions: , , , \n"
     ]
    },
    {
     "name": "stdout",
     "output_type": "stream",
     "text": [
      "Default Brain: ReacherBrain, Unity brain name: ReacherBrain\n",
      "        Number of Visual Observations (per agent): 0\n",
      "        Vector Observation space type: continuous\n",
      "        Vector Observation space size (per agent): 33\n",
      "        Number of stacked Vector Observation: 1\n",
      "        Vector Action space type: continuous\n",
      "        Vector Action space size (per agent): 4\n",
      "        Vector Action descriptions: , , , \n",
      "Active Agents: 1\n",
      "Action Space: 4\n",
      "State Space: 33\n",
      "States: [  0.00000000e+00  -4.00000000e+00   0.00000000e+00   1.00000000e+00\n",
      "  -0.00000000e+00  -0.00000000e+00  -4.37113883e-08   0.00000000e+00\n",
      "   0.00000000e+00   0.00000000e+00   0.00000000e+00   0.00000000e+00\n",
      "   0.00000000e+00   0.00000000e+00  -1.00000000e+01   0.00000000e+00\n",
      "   1.00000000e+00  -0.00000000e+00  -0.00000000e+00  -4.37113883e-08\n",
      "   0.00000000e+00   0.00000000e+00   0.00000000e+00   0.00000000e+00\n",
      "   0.00000000e+00   0.00000000e+00   5.75471878e+00  -1.00000000e+00\n",
      "   5.55726671e+00   0.00000000e+00   1.00000000e+00   0.00000000e+00\n",
      "  -1.68164849e-01]\n"
     ]
    }
   ],
   "source": [
    "env = model.get_environment()\n",
    "\n",
    "describe_environment(env)\n"
   ]
  },
  {
   "cell_type": "markdown",
   "metadata": {},
   "source": [
    "### Get the untrained agent and show it's interaction with the environment\n"
   ]
  },
  {
   "cell_type": "code",
   "execution_count": 5,
   "metadata": {},
   "outputs": [],
   "source": [
    "# DQN Agent with no training\n",
    "agent = model.get_agent(env)"
   ]
  },
  {
   "cell_type": "code",
   "execution_count": 15,
   "metadata": {},
   "outputs": [
    {
     "name": "stdout",
     "output_type": "stream",
     "text": [
      "Avg Rewards: 0.00\n"
     ]
    }
   ],
   "source": [
    "# navigate the environment with untrained DQN agent\n",
    "show_navigation(env, agent)"
   ]
  },
  {
   "cell_type": "markdown",
   "metadata": {},
   "source": [
    "### Train Agent"
   ]
  },
  {
   "cell_type": "code",
   "execution_count": 6,
   "metadata": {},
   "outputs": [
    {
     "name": "stdout",
     "output_type": "stream",
     "text": [
      " Episode-100, Avg Reward: 1.20 Reward: 1.20\n",
      " Episode-200, Avg Reward: 11.43Reward: 11.43\n",
      " Episode-268, Eps: 0.4470, Avg Reward: 30.08\n",
      " Agent has learned to solve the task. Episode-268, Avg Reward: 30.08\n",
      " Episode-269, Eps: 0.4457, Avg Reward: 30.37\n",
      " Agent has learned to solve the task. Episode-269, Avg Reward: 30.37\n",
      " Episode-270, Eps: 0.4443, Avg Reward: 30.53\n",
      " Agent has learned to solve the task. Episode-270, Avg Reward: 30.53\n",
      " Episode-271, Eps: 0.4430, Avg Reward: 30.77\n",
      " Agent has learned to solve the task. Episode-271, Avg Reward: 30.77\n",
      " Episode-272, Eps: 0.4417, Avg Reward: 31.00\n",
      " Agent has learned to solve the task. Episode-272, Avg Reward: 31.00\n",
      " Episode-273, Eps: 0.4403, Avg Reward: 31.20\n",
      " Agent has learned to solve the task. Episode-273, Avg Reward: 31.20\n",
      " Episode-274, Eps: 0.4390, Avg Reward: 31.28\n",
      " Agent has learned to solve the task. Episode-274, Avg Reward: 31.28\n",
      " Episode-275, Eps: 0.4377, Avg Reward: 31.49\n",
      " Agent has learned to solve the task. Episode-275, Avg Reward: 31.49\n",
      " Episode-276, Eps: 0.4364, Avg Reward: 31.70\n",
      " Agent has learned to solve the task. Episode-276, Avg Reward: 31.70\n",
      " Episode-277, Eps: 0.4351, Avg Reward: 31.74\n",
      " Agent has learned to solve the task. Episode-277, Avg Reward: 31.74\n",
      " Episode-278, Eps: 0.4338, Avg Reward: 32.01\n",
      " Agent has learned to solve the task. Episode-278, Avg Reward: 32.01\n",
      " Episode-279, Eps: 0.4325, Avg Reward: 32.22\n",
      " Agent has learned to solve the task. Episode-279, Avg Reward: 32.22\n",
      " Episode-280, Eps: 0.4312, Avg Reward: 32.47\n",
      " Agent has learned to solve the task. Episode-280, Avg Reward: 32.47\n",
      " Episode-281, Eps: 0.4299, Avg Reward: 32.59\n",
      " Agent has learned to solve the task. Episode-281, Avg Reward: 32.59\n",
      " Episode-282, Eps: 0.4286, Avg Reward: 32.78\n",
      " Agent has learned to solve the task. Episode-282, Avg Reward: 32.78\n",
      " Episode-283, Eps: 0.4273, Avg Reward: 32.79\n",
      " Agent has learned to solve the task. Episode-283, Avg Reward: 32.79\n",
      " Episode-284, Eps: 0.4260, Avg Reward: 32.97\n",
      " Agent has learned to solve the task. Episode-284, Avg Reward: 32.97\n",
      " Episode-285, Eps: 0.4247, Avg Reward: 33.05\n",
      " Agent has learned to solve the task. Episode-285, Avg Reward: 33.05\n",
      " Episode-286, Eps: 0.4235, Avg Reward: 33.22\n",
      " Agent has learned to solve the task. Episode-286, Avg Reward: 33.22\n",
      " Episode-287, Eps: 0.4222, Avg Reward: 33.36\n",
      " Agent has learned to solve the task. Episode-287, Avg Reward: 33.36\n",
      " Episode-289, Eps: 0.4197, Avg Reward: 33.50\n",
      " Agent has learned to solve the task. Episode-289, Avg Reward: 33.50\n",
      " Episode-290, Eps: 0.4184, Avg Reward: 33.56\n",
      " Agent has learned to solve the task. Episode-290, Avg Reward: 33.56\n",
      " Episode-292, Eps: 0.4159, Avg Reward: 33.60\n",
      " Agent has learned to solve the task. Episode-292, Avg Reward: 33.60\n",
      " Episode-293, Eps: 0.4146, Avg Reward: 33.67\n",
      " Agent has learned to solve the task. Episode-293, Avg Reward: 33.67\n",
      " Episode-295, Eps: 0.4122, Avg Reward: 33.72\n",
      " Agent has learned to solve the task. Episode-295, Avg Reward: 33.72\n",
      " Episode-296, Eps: 0.4109, Avg Reward: 33.95\n",
      " Agent has learned to solve the task. Episode-296, Avg Reward: 33.95\n",
      " Episode-297, Eps: 0.4097, Avg Reward: 34.01\n",
      " Agent has learned to solve the task. Episode-297, Avg Reward: 34.01\n",
      " Episode-298, Eps: 0.4085, Avg Reward: 34.11\n",
      " Agent has learned to solve the task. Episode-298, Avg Reward: 34.11\n",
      " Episode-299, Eps: 0.4072, Avg Reward: 34.12\n",
      " Agent has learned to solve the task. Episode-299, Avg Reward: 34.12\n",
      " Episode-300, Avg Reward: 34.21Reward: 34.21\n",
      "\n",
      " Agent has learned to solve the task. Episode-300, Avg Reward: 34.21\n",
      " Episode-301, Eps: 0.4048, Avg Reward: 34.24\n",
      " Agent has learned to solve the task. Episode-301, Avg Reward: 34.24\n",
      " Episode-302, Eps: 0.4036, Avg Reward: 34.29\n",
      " Agent has learned to solve the task. Episode-302, Avg Reward: 34.29\n",
      " Episode-303, Eps: 0.4024, Avg Reward: 34.40\n",
      " Agent has learned to solve the task. Episode-303, Avg Reward: 34.40\n",
      " Episode-304, Eps: 0.4012, Avg Reward: 34.42\n",
      " Agent has learned to solve the task. Episode-304, Avg Reward: 34.42\n",
      " Episode-306, Eps: 0.3988, Avg Reward: 34.50\n",
      " Agent has learned to solve the task. Episode-306, Avg Reward: 34.50\n",
      " Episode-307, Eps: 0.3976, Avg Reward: 34.51\n",
      " Agent has learned to solve the task. Episode-307, Avg Reward: 34.51\n",
      " Episode-308, Eps: 0.3964, Avg Reward: 34.56\n",
      " Agent has learned to solve the task. Episode-308, Avg Reward: 34.56\n",
      " Episode-309, Eps: 0.3952, Avg Reward: 34.75\n",
      " Agent has learned to solve the task. Episode-309, Avg Reward: 34.75\n",
      " Episode-311, Eps: 0.3928, Avg Reward: 34.91\n",
      " Agent has learned to solve the task. Episode-311, Avg Reward: 34.91\n",
      " Episode-312, Eps: 0.3916, Avg Reward: 35.01\n",
      " Agent has learned to solve the task. Episode-312, Avg Reward: 35.01\n",
      " Episode-313, Eps: 0.3905, Avg Reward: 35.07\n",
      " Agent has learned to solve the task. Episode-313, Avg Reward: 35.07\n",
      " Episode-316, Eps: 0.3870, Avg Reward: 35.10\n",
      " Agent has learned to solve the task. Episode-316, Avg Reward: 35.10\n",
      " Episode-319, Eps: 0.3835, Avg Reward: 35.16\n",
      " Agent has learned to solve the task. Episode-319, Avg Reward: 35.16\n",
      " Episode-320, Eps: 0.3823, Avg Reward: 35.17\n",
      " Agent has learned to solve the task. Episode-320, Avg Reward: 35.17\n",
      " Episode-321, Eps: 0.3812, Avg Reward: 35.18\n",
      " Agent has learned to solve the task. Episode-321, Avg Reward: 35.18\n",
      " Episode-322, Eps: 0.3801, Avg Reward: 35.22\n",
      " Agent has learned to solve the task. Episode-322, Avg Reward: 35.22\n",
      " Episode-327, Eps: 0.3744, Avg Reward: 35.27\n",
      " Agent has learned to solve the task. Episode-327, Avg Reward: 35.27\n",
      " Episode-329, Eps: 0.3721, Avg Reward: 35.28\n",
      " Agent has learned to solve the task. Episode-329, Avg Reward: 35.28\n",
      " Episode-331, Eps: 0.3699, Avg Reward: 35.34\n",
      " Agent has learned to solve the task. Episode-331, Avg Reward: 35.34\n",
      " Episode-332, Eps: 0.3688, Avg Reward: 35.38\n",
      " Agent has learned to solve the task. Episode-332, Avg Reward: 35.38\n",
      " Episode-336, Eps: 0.3644, Avg Reward: 35.41\n",
      " Agent has learned to solve the task. Episode-336, Avg Reward: 35.41\n",
      " Episode-400, Avg Reward: 33.00Reward: 33.00\n",
      " Episode-500, Avg Reward: 31.93Reward: 31.93\n"
     ]
    }
   ],
   "source": [
    "# train the DQN agent\n",
    "rewards = model.train_navigator(env, agent)"
   ]
  },
  {
   "cell_type": "markdown",
   "metadata": {},
   "source": [
    "### Agent's Training Progress"
   ]
  },
  {
   "cell_type": "code",
   "execution_count": 7,
   "metadata": {},
   "outputs": [
    {
     "data": {
      "image/png": "[encoded data removed]",
      "text/plain": [
       "<matplotlib.figure.Figure at 0x7ff18868f198>"
      ]
     },
     "metadata": {
      "needs_background": "light"
     },
     "output_type": "display_data"
    }
   ],
   "source": [
    "plot_rewards(rewards)"
   ]
  },
  {
   "cell_type": "markdown",
   "metadata": {},
   "source": [
    "### Show navigation of a trained agent"
   ]
  },
  {
   "cell_type": "code",
   "execution_count": 8,
   "metadata": {},
   "outputs": [
    {
     "name": "stdout",
     "output_type": "stream",
     "text": [
      "Avg Rewards: 38.47\n"
     ]
    }
   ],
   "source": [
    "model.restore_memory(agent)\n",
    "\n",
    "show_navigation(env, agent, train = False)"
   ]
  },
  {
   "cell_type": "markdown",
   "metadata": {},
   "source": [
    "### Close Environment"
   ]
  },
  {
   "cell_type": "code",
   "execution_count": 9,
   "metadata": {},
   "outputs": [],
   "source": [
    "env.close()"
   ]
  }
 ],
 "metadata": {
  "kernelspec": {
   "display_name": "Python 3",
   "language": "python",
   "name": "python3"
  },
  "language_info": {
   "codemirror_mode": {
    "name": "ipython",
    "version": 3
   },
   "file_extension": ".py",
   "mimetype": "text/x-python",
   "name": "python",
   "nbconvert_exporter": "python",
   "pygments_lexer": "ipython3",
   "version": "3.5.6"
  }
 },
 "nbformat": 4,
 "nbformat_minor": 2
}
