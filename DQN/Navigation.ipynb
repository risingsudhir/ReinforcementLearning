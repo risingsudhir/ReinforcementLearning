{
 "cells": [
  {
   "cell_type": "markdown",
   "metadata": {},
   "source": [
    "### Navigation\n",
    "\n",
    "#### Train an agent to navigate and collect yellow banans while avoiding blue bananas\n"
   ]
  },
  {
   "cell_type": "code",
   "execution_count": 4,
   "metadata": {},
   "outputs": [],
   "source": [
    "!pip -q install ./python"
   ]
  },
  {
   "cell_type": "code",
   "execution_count": 5,
   "metadata": {},
   "outputs": [],
   "source": [
    "%load_ext autoreload\n",
    "%autoreload 2\n",
    "\n",
    "import numpy as np\n",
    "import matplotlib.pyplot as plt\n",
    "from IPython import display\n",
    "\n",
    "import navigator as model\n",
    "\n",
    "%matplotlib inline\n",
    "plt.ion()"
   ]
  },
  {
   "cell_type": "code",
   "execution_count": 6,
   "metadata": {},
   "outputs": [],
   "source": [
    "def describe_environment(env):\n",
    "    '''\n",
    "    Describe the navigator environment\n",
    "    '''\n",
    "    # get the brain\n",
    "    brain_name = env.brain_names[0]\n",
    "    brain = env.brains[brain_name]\n",
    "    \n",
    "    print('Default Brain: {}, {}'.format(brain_name, brain))\n",
    "   \n",
    "    # reset the environment\n",
    "    env_info = env.reset(train_mode=True)[brain_name]\n",
    "    \n",
    "    # Agents in the environment\n",
    "    print('Active Agents: {}'.format(len(env_info.agents)))\n",
    "    \n",
    "    # Action Space\n",
    "    actions = brain.vector_action_space_size\n",
    "    print('Action Space: {}'.format(actions))\n",
    "    \n",
    "    # State Space\n",
    "    states = env_info.vector_observations[0]\n",
    "    \n",
    "    print('State Space: {}'.format(len(states)))\n",
    "\n",
    "    print('States: {}'.format(states))\n",
    "    \n",
    "    \n",
    "def show_navigation(env, agent, train = True, navigations = 1, max_steps = None):\n",
    "    '''\n",
    "    Show navigation of the agent in the environment\n",
    "    param env: unity navigation environment\n",
    "    param agent: dqn agent\n",
    "    param navigations: number of navigations to play\n",
    "    '''\n",
    "    \n",
    "    total_rewards = 0.\n",
    "    \n",
    "    for i in range(navigations):\n",
    "        \n",
    "        step       = 0\n",
    "        rewards    = 0.\n",
    "        brain_name = env.brain_names[0]\n",
    "        env_info   = env.reset(train_mode = train)[brain_name]\n",
    "        state      = env_info.vector_observations[0]\n",
    "        \n",
    "        while (max_steps == None) or (j < max_steps):\n",
    "            \n",
    "            # get agent's action for current state\n",
    "            action = agent.select_action(state, epsilon = 0., training = train)\n",
    "            \n",
    "            # take the action that agent has selected\n",
    "            env_info = env.step(action)[brain_name]\n",
    "            \n",
    "            # get transitioned state and reward\n",
    "            state    = env_info.vector_observations[0]\n",
    "            reward   = env_info.rewards[0]\n",
    "            done     = env_info.local_done[0]\n",
    "            \n",
    "            rewards += reward\n",
    "            step    += 1\n",
    "            \n",
    "            #print('Step: {}, Reward: {}'.format(step, reward))\n",
    "            \n",
    "            if done: \n",
    "                break\n",
    "            \n",
    "        total_rewards += rewards\n",
    "    \n",
    "    total_rewards /= navigations\n",
    "    \n",
    "    print('Avg Rewards: {:.2f}'.format(total_rewards))\n",
    "    \n",
    "    \n",
    "def plot_rewards(rewards):\n",
    "    \n",
    "    fig = plt.figure()\n",
    "    ax = fig.add_subplot(111)\n",
    "    plt.plot(np.arange(len(rewards)), rewards)\n",
    "    \n",
    "    plt.ylabel('Reward')\n",
    "    plt.xlabel('Episode')\n",
    "    \n",
    "    plt.show()"
   ]
  },
  {
   "cell_type": "markdown",
   "metadata": {},
   "source": [
    "### Show environment details"
   ]
  },
  {
   "cell_type": "code",
   "execution_count": 7,
   "metadata": {},
   "outputs": [
    {
     "name": "stderr",
     "output_type": "stream",
     "text": [
      "INFO:unityagents:\n",
      "'Academy' started successfully!\n",
      "Unity Academy name: Academy\n",
      "        Number of Brains: 1\n",
      "        Number of External Brains : 1\n",
      "        Lesson number : 0\n",
      "        Reset Parameters :\n",
      "\t\t\n",
      "Unity brain name: BananaBrain\n",
      "        Number of Visual Observations (per agent): 0\n",
      "        Vector Observation space type: continuous\n",
      "        Vector Observation space size (per agent): 37\n",
      "        Number of stacked Vector Observation: 1\n",
      "        Vector Action space type: discrete\n",
      "        Vector Action space size (per agent): 4\n",
      "        Vector Action descriptions: , , , \n"
     ]
    },
    {
     "name": "stdout",
     "output_type": "stream",
     "text": [
      "Default Brain: BananaBrain, Unity brain name: BananaBrain\n",
      "        Number of Visual Observations (per agent): 0\n",
      "        Vector Observation space type: continuous\n",
      "        Vector Observation space size (per agent): 37\n",
      "        Number of stacked Vector Observation: 1\n",
      "        Vector Action space type: discrete\n",
      "        Vector Action space size (per agent): 4\n",
      "        Vector Action descriptions: , , , \n",
      "Active Agents: 1\n",
      "Action Space: 4\n",
      "State Space: 37\n",
      "States: [ 1.          0.          0.          0.          0.84408134  0.          0.\n",
      "  1.          0.          0.0748472   0.          1.          0.          0.\n",
      "  0.25755     1.          0.          0.          0.          0.74177343\n",
      "  0.          1.          0.          0.          0.25854847  0.          0.\n",
      "  1.          0.          0.09355672  0.          1.          0.          0.\n",
      "  0.31969345  0.          0.        ]\n"
     ]
    }
   ],
   "source": [
    "env = model.get_environment()\n",
    "\n",
    "describe_environment(env)\n"
   ]
  },
  {
   "cell_type": "markdown",
   "metadata": {},
   "source": [
    "### Get the untrained agent and navigate the environment"
   ]
  },
  {
   "cell_type": "code",
   "execution_count": 8,
   "metadata": {},
   "outputs": [],
   "source": [
    "# DQN Agent with no training\n",
    "agent = model.get_agent(env)"
   ]
  },
  {
   "cell_type": "code",
   "execution_count": 9,
   "metadata": {},
   "outputs": [
    {
     "name": "stdout",
     "output_type": "stream",
     "text": [
      "Avg Rewards: 0.00\n"
     ]
    }
   ],
   "source": [
    "# navigate the environment with untrained DQN agent\n",
    "show_navigation(env, agent)"
   ]
  },
  {
   "cell_type": "markdown",
   "metadata": {},
   "source": [
    "### Train Agent"
   ]
  },
  {
   "cell_type": "code",
   "execution_count": 10,
   "metadata": {},
   "outputs": [
    {
     "name": "stdout",
     "output_type": "stream",
     "text": [
      " Episode-100, Avg Reward: 0.40 Reward: 0.40\n",
      " Episode-200, Avg Reward: 2.61 Reward: 2.61\n",
      " Episode-300, Avg Reward: 5.15 Reward: 5.15\n",
      " Episode-400, Avg Reward: 7.56 Reward: 7.56\n",
      " Episode-500, Avg Reward: 8.36 Reward: 8.36\n",
      " Episode-600, Avg Reward: 10.85Reward: 10.85\n",
      " Episode-700, Avg Reward: 12.68Reward: 12.68\n",
      " Episode-800, Avg Reward: 13.07Reward: 13.07\n",
      " Episode-900, Avg Reward: 13.16Reward: 13.16\n",
      " Episode-1000, Avg Reward: 13.13Reward: 13.13\n",
      " Episode-1087, Eps: 0.0382, Avg Reward: 14.04\n",
      " Agent has learned to solve the task. Episode-1087, Avg Reward: 14.04\n",
      " Episode-1093, Eps: 0.0375, Avg Reward: 14.08\n",
      " Agent has learned to solve the task. Episode-1093, Avg Reward: 14.08\n",
      " Episode-1094, Eps: 0.0374, Avg Reward: 14.10\n",
      " Agent has learned to solve the task. Episode-1094, Avg Reward: 14.10\n",
      " Episode-1095, Eps: 0.0373, Avg Reward: 14.17\n",
      " Agent has learned to solve the task. Episode-1095, Avg Reward: 14.17\n",
      " Episode-1097, Eps: 0.0370, Avg Reward: 14.19\n",
      " Agent has learned to solve the task. Episode-1097, Avg Reward: 14.19\n",
      " Episode-1098, Eps: 0.0369, Avg Reward: 14.24\n",
      " Agent has learned to solve the task. Episode-1098, Avg Reward: 14.24\n",
      " Episode-1100, Avg Reward: 14.18Reward: 14.18\n",
      " Episode-1102, Eps: 0.0365, Avg Reward: 14.27\n",
      " Agent has learned to solve the task. Episode-1102, Avg Reward: 14.27\n",
      " Episode-1105, Eps: 0.0362, Avg Reward: 14.31\n",
      " Agent has learned to solve the task. Episode-1105, Avg Reward: 14.31\n",
      " Episode-1200, Avg Reward: 13.57Reward: 13.57\n",
      " Episode-1300, Avg Reward: 13.95Reward: 13.95\n",
      " Episode-1315, Eps: 0.0192, Avg Reward: 14.35\n",
      " Agent has learned to solve the task. Episode-1315, Avg Reward: 14.35\n",
      " Episode-1316, Eps: 0.0192, Avg Reward: 14.37\n",
      " Agent has learned to solve the task. Episode-1316, Avg Reward: 14.37\n",
      " Episode-1319, Eps: 0.0190, Avg Reward: 14.40\n",
      " Agent has learned to solve the task. Episode-1319, Avg Reward: 14.40\n",
      " Episode-1325, Eps: 0.0187, Avg Reward: 14.41\n",
      " Agent has learned to solve the task. Episode-1325, Avg Reward: 14.41\n",
      " Episode-1341, Eps: 0.0178, Avg Reward: 14.57\n",
      " Agent has learned to solve the task. Episode-1341, Avg Reward: 14.57\n",
      " Episode-1342, Eps: 0.0177, Avg Reward: 14.62\n",
      " Agent has learned to solve the task. Episode-1342, Avg Reward: 14.62\n",
      " Episode-1367, Eps: 0.0165, Avg Reward: 14.66\n",
      " Agent has learned to solve the task. Episode-1367, Avg Reward: 14.66\n",
      " Episode-1368, Eps: 0.0164, Avg Reward: 14.72\n",
      " Agent has learned to solve the task. Episode-1368, Avg Reward: 14.72\n",
      " Episode-1369, Eps: 0.0164, Avg Reward: 14.75\n",
      " Agent has learned to solve the task. Episode-1369, Avg Reward: 14.75\n",
      " Episode-1370, Eps: 0.0163, Avg Reward: 14.78\n",
      " Agent has learned to solve the task. Episode-1370, Avg Reward: 14.78\n",
      " Episode-1371, Eps: 0.0163, Avg Reward: 14.87\n",
      " Agent has learned to solve the task. Episode-1371, Avg Reward: 14.87\n",
      " Episode-1400, Avg Reward: 14.61Reward: 14.61\n",
      " Episode-1500, Avg Reward: 13.93Reward: 13.93\n",
      " Episode-1600, Avg Reward: 14.89Reward: 14.89\n",
      "\n",
      " Agent has learned to solve the task. Episode-1600, Avg Reward: 14.89\n",
      " Episode-1601, Eps: 0.0100, Avg Reward: 14.90\n",
      " Agent has learned to solve the task. Episode-1601, Avg Reward: 14.90\n",
      " Episode-1602, Eps: 0.0100, Avg Reward: 14.93\n",
      " Agent has learned to solve the task. Episode-1602, Avg Reward: 14.93\n",
      " Episode-1603, Eps: 0.0100, Avg Reward: 14.94\n",
      " Agent has learned to solve the task. Episode-1603, Avg Reward: 14.94\n",
      " Episode-1605, Eps: 0.0100, Avg Reward: 15.02\n",
      " Agent has learned to solve the task. Episode-1605, Avg Reward: 15.02\n",
      " Episode-1606, Eps: 0.0100, Avg Reward: 15.03\n",
      " Agent has learned to solve the task. Episode-1606, Avg Reward: 15.03\n",
      " Episode-1607, Eps: 0.0100, Avg Reward: 15.04\n",
      " Agent has learned to solve the task. Episode-1607, Avg Reward: 15.04\n",
      " Episode-1608, Eps: 0.0100, Avg Reward: 15.18\n",
      " Agent has learned to solve the task. Episode-1608, Avg Reward: 15.18\n",
      " Episode-1609, Eps: 0.0100, Avg Reward: 15.26\n",
      " Agent has learned to solve the task. Episode-1609, Avg Reward: 15.26\n",
      " Episode-1700, Avg Reward: 14.34Reward: 14.34\n",
      " Episode-1800, Avg Reward: 14.85Reward: 14.85\n",
      " Episode-1900, Avg Reward: 14.42Reward: 14.42\n",
      " Episode-2000, Avg Reward: 13.52Reward: 13.52\n"
     ]
    }
   ],
   "source": [
    "# train the DQN agent\n",
    "rewards = model.train_navigator(env, agent)"
   ]
  },
  {
   "cell_type": "markdown",
   "metadata": {},
   "source": [
    "### Agent's Training Progress"
   ]
  },
  {
   "cell_type": "code",
   "execution_count": 11,
   "metadata": {},
   "outputs": [
    {
     "data": {
      "image/png": "[encoded data removed]",
      "text/plain": [
       "<matplotlib.figure.Figure at 0x7f97f6f93208>"
      ]
     },
     "metadata": {
      "needs_background": "light"
     },
     "output_type": "display_data"
    }
   ],
   "source": [
    "plot_rewards(rewards)"
   ]
  },
  {
   "cell_type": "markdown",
   "metadata": {},
   "source": [
    "### Show navigation of a trained agent"
   ]
  },
  {
   "cell_type": "code",
   "execution_count": 12,
   "metadata": {},
   "outputs": [
    {
     "name": "stdout",
     "output_type": "stream",
     "text": [
      "Avg Rewards: 22.00\n"
     ]
    }
   ],
   "source": [
    "model.restore_memory(agent)\n",
    "\n",
    "show_navigation(env, agent, train = False)"
   ]
  },
  {
   "cell_type": "markdown",
   "metadata": {},
   "source": [
    "### Close Environment"
   ]
  },
  {
   "cell_type": "code",
   "execution_count": null,
   "metadata": {},
   "outputs": [],
   "source": [
    "env.close()"
   ]
  }
 ],
 "metadata": {
  "kernelspec": {
   "display_name": "Python 3",
   "language": "python",
   "name": "python3"
  },
  "language_info": {
   "codemirror_mode": {
    "name": "ipython",
    "version": 3
   },
   "file_extension": ".py",
   "mimetype": "text/x-python",
   "name": "python",
   "nbconvert_exporter": "python",
   "pygments_lexer": "ipython3",
   "version": "3.5.6"
  }
 },
 "nbformat": 4,
 "nbformat_minor": 2
}
